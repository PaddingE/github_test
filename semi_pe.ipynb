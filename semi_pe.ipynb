{
 "cells": [
  {
   "cell_type": "code",
   "execution_count": 1,
   "metadata": {},
   "outputs": [],
   "source": [
    "import pandas as pd\n",
    "import numpy as np\n",
    "import matplotlib.pyplot as plt\n",
    "from matplotlib import rc\n",
    "import matplotlib.font_manager as fm"
   ]
  },
  {
   "cell_type": "code",
   "execution_count": 2,
   "metadata": {},
   "outputs": [],
   "source": [
    "## 한글설정\n",
    "path = 'C:/Users/jaemi/AppData/Local/Microsoft/Windows/Fonts/NanumGothicCoding.ttf'\n",
    "\n",
    "font_name = fm.FontProperties(fname= path).get_name()\n",
    "rc('font', family = font_name)"
   ]
  },
  {
   "cell_type": "code",
   "execution_count": 3,
   "metadata": {},
   "outputs": [],
   "source": [
    "df_data1 = pd.read_excel('./전국_연령별_장애유형별_성별_등록장애인수_20230515034425.xlsx')\n",
    "df_data2 = pd.read_excel('./전국_연령별_장애유형별_성별_등록장애인수_20230515034348.xlsx')\n",
    "df_data3 = pd.read_excel('./전국_연령별_장애유형별_성별_등록장애인수_20230515033734.xlsx')"
   ]
  },
  {
   "cell_type": "code",
   "execution_count": 4,
   "metadata": {},
   "outputs": [
    {
     "name": "stdout",
     "output_type": "stream",
     "text": [
      "       2017     2018\n",
      "0        합계       합계\n",
      "1         계        계\n",
      "2   2545637  2585876\n",
      "3      5673     5875\n",
      "4        46       41\n",
      "5       517      482\n",
      "6      1157     1066\n",
      "7      1640     1804\n",
      "8      2313     2482\n",
      "9     21583    23334\n",
      "10     3310     3300\n",
      "11     4637     4865\n",
      "12     4835     5349\n",
      "13     4365     5178\n",
      "14     4436     4642\n",
      "15    24178    24253\n",
      "16     4927     4694\n",
      "17     4288     5137\n",
      "18     4481     4527\n",
      "19     4979     4680\n",
      "20     5503     5215\n",
      "21    38352    36606\n",
      "22     5981     5803\n",
      "23     6699     6313\n",
      "24     8146     7040\n",
      "25     8477     8622\n",
      "26     9049     8828\n"
     ]
    }
   ],
   "source": [
    "df_data1_short = df_data1.loc[:26,['2017','2018']]\n",
    "df_data2_short = df_data2.loc[:26,['2019','2020']]\n",
    "df_data3_short = df_data3.loc[:26,['2021','2022']]\n",
    "\n",
    "print(df_data1_short)"
   ]
  },
  {
   "cell_type": "code",
   "execution_count": 11,
   "metadata": {},
   "outputs": [
    {
     "name": "stdout",
     "output_type": "stream",
     "text": [
      "     2017   2018\n",
      "3    5673   5875\n",
      "9   21583  23334\n",
      "15  24178  24253\n",
      "21  38352  36606\n"
     ]
    }
   ],
   "source": [
    "df1_loc = df_data1_short.iloc[3::6, :]\n",
    "df2_loc = df_data2_short.iloc[3::6, :]\n",
    "df3_loc = df_data3_short.iloc[3::6, :]\n",
    "\n",
    "\n",
    "print(df1_loc)\n",
    "# print(df2_loc)\n",
    "# print(df3_loc)"
   ]
  },
  {
   "cell_type": "code",
   "execution_count": 6,
   "metadata": {},
   "outputs": [
    {
     "name": "stdout",
     "output_type": "stream",
     "text": [
      "     2017   2018   2019   2020   2021   2022\n",
      "3    5673   5875   6159   5772   5571   5124\n",
      "9   21583  23334  24961  25793  26733  28165\n",
      "15  24178  24253  24925  26554  28866  30524\n",
      "21  38352  36606  34723  32056  30818  30939\n"
     ]
    }
   ],
   "source": [
    "df = pd.concat([df1_loc, df2_loc, df3_loc], axis=1)\n",
    "print(df.head())"
   ]
  },
  {
   "cell_type": "code",
   "execution_count": 10,
   "metadata": {},
   "outputs": [
    {
     "name": "stdout",
     "output_type": "stream",
     "text": [
      "2017    89786\n",
      "2018    90068\n",
      "dtype: object\n",
      "2019    90768\n",
      "2020    90175\n",
      "dtype: object\n",
      "2021    91988\n",
      "2022    94752\n",
      "dtype: object\n"
     ]
    }
   ],
   "source": [
    "df1_sum = df1_loc.sum()\n",
    "print(df1_sum)\n",
    "df2_sum = df2_loc.sum()\n",
    "print(df2_sum)\n",
    "df3_sum = df3_loc.sum()\n",
    "print(df3_sum)"
   ]
  },
  {
   "cell_type": "code",
   "execution_count": 16,
   "metadata": {},
   "outputs": [
    {
     "name": "stdout",
     "output_type": "stream",
     "text": [
      "2017    89786\n",
      "2018    90068\n",
      "2019    90768\n",
      "2020    90175\n",
      "2021    91988\n",
      "2022    94752\n",
      "dtype: object\n"
     ]
    }
   ],
   "source": [
    "df_sum = pd.concat([df1_sum, df2_sum, df3_sum], axis=0)\n",
    "print(df_sum)"
   ]
  },
  {
   "cell_type": "code",
   "execution_count": 8,
   "metadata": {},
   "outputs": [
    {
     "data": {
      "text/html": [
       "<div>\n",
       "<style scoped>\n",
       "    .dataframe tbody tr th:only-of-type {\n",
       "        vertical-align: middle;\n",
       "    }\n",
       "\n",
       "    .dataframe tbody tr th {\n",
       "        vertical-align: top;\n",
       "    }\n",
       "\n",
       "    .dataframe thead th {\n",
       "        text-align: right;\n",
       "    }\n",
       "</style>\n",
       "<table border=\"1\" class=\"dataframe\">\n",
       "  <thead>\n",
       "    <tr style=\"text-align: right;\">\n",
       "      <th></th>\n",
       "      <th>※ 매년 말일자 통계 현황</th>\n",
       "      <th>Unnamed: 1</th>\n",
       "      <th>Unnamed: 2</th>\n",
       "      <th>Unnamed: 3</th>\n",
       "      <th>Unnamed: 4</th>\n",
       "      <th>Unnamed: 5</th>\n",
       "      <th>Unnamed: 6</th>\n",
       "      <th>Unnamed: 7</th>\n",
       "      <th>Unnamed: 8</th>\n",
       "      <th>Unnamed: 9</th>\n",
       "      <th>...</th>\n",
       "      <th>Unnamed: 64</th>\n",
       "      <th>Unnamed: 65</th>\n",
       "      <th>Unnamed: 66</th>\n",
       "      <th>Unnamed: 67</th>\n",
       "      <th>Unnamed: 68</th>\n",
       "      <th>Unnamed: 69</th>\n",
       "      <th>Unnamed: 70</th>\n",
       "      <th>Unnamed: 71</th>\n",
       "      <th>Unnamed: 72</th>\n",
       "      <th>Unnamed: 73</th>\n",
       "    </tr>\n",
       "  </thead>\n",
       "  <tbody>\n",
       "    <tr>\n",
       "      <th>0</th>\n",
       "      <td>NaN</td>\n",
       "      <td>NaN</td>\n",
       "      <td>2017년</td>\n",
       "      <td>NaN</td>\n",
       "      <td>NaN</td>\n",
       "      <td>NaN</td>\n",
       "      <td>NaN</td>\n",
       "      <td>NaN</td>\n",
       "      <td>NaN</td>\n",
       "      <td>NaN</td>\n",
       "      <td>...</td>\n",
       "      <td>NaN</td>\n",
       "      <td>NaN</td>\n",
       "      <td>NaN</td>\n",
       "      <td>NaN</td>\n",
       "      <td>NaN</td>\n",
       "      <td>NaN</td>\n",
       "      <td>NaN</td>\n",
       "      <td>NaN</td>\n",
       "      <td>NaN</td>\n",
       "      <td>NaN</td>\n",
       "    </tr>\n",
       "    <tr>\n",
       "      <th>1</th>\n",
       "      <td>NaN</td>\n",
       "      <td>NaN</td>\n",
       "      <td>계</td>\n",
       "      <td>NaN</td>\n",
       "      <td>NaN</td>\n",
       "      <td>NaN</td>\n",
       "      <td>남</td>\n",
       "      <td>NaN</td>\n",
       "      <td>NaN</td>\n",
       "      <td>NaN</td>\n",
       "      <td>...</td>\n",
       "      <td>NaN</td>\n",
       "      <td>NaN</td>\n",
       "      <td>남</td>\n",
       "      <td>NaN</td>\n",
       "      <td>NaN</td>\n",
       "      <td>NaN</td>\n",
       "      <td>여</td>\n",
       "      <td>NaN</td>\n",
       "      <td>NaN</td>\n",
       "      <td>NaN</td>\n",
       "    </tr>\n",
       "    <tr>\n",
       "      <th>2</th>\n",
       "      <td>행정기관코드</td>\n",
       "      <td>행정기관</td>\n",
       "      <td>총 인구수</td>\n",
       "      <td>연령구간인구수</td>\n",
       "      <td>0~9세</td>\n",
       "      <td>10~19세</td>\n",
       "      <td>남 인구수</td>\n",
       "      <td>연령구간인구수</td>\n",
       "      <td>0~9세</td>\n",
       "      <td>10~19세</td>\n",
       "      <td>...</td>\n",
       "      <td>0~9세</td>\n",
       "      <td>10~19세</td>\n",
       "      <td>총 인구수</td>\n",
       "      <td>연령구간인구수</td>\n",
       "      <td>0~9세</td>\n",
       "      <td>10~19세</td>\n",
       "      <td>총 인구수</td>\n",
       "      <td>연령구간인구수</td>\n",
       "      <td>0~9세</td>\n",
       "      <td>10~19세</td>\n",
       "    </tr>\n",
       "    <tr>\n",
       "      <th>3</th>\n",
       "      <td>0000000000</td>\n",
       "      <td>전국</td>\n",
       "      <td>51778544</td>\n",
       "      <td>9739623</td>\n",
       "      <td>4435198</td>\n",
       "      <td>5304425</td>\n",
       "      <td>25855919</td>\n",
       "      <td>5035540</td>\n",
       "      <td>2277849</td>\n",
       "      <td>2757691</td>\n",
       "      <td>...</td>\n",
       "      <td>3532642</td>\n",
       "      <td>4703196</td>\n",
       "      <td>25636951</td>\n",
       "      <td>4233978</td>\n",
       "      <td>1810379</td>\n",
       "      <td>2423599</td>\n",
       "      <td>25802087</td>\n",
       "      <td>4001860</td>\n",
       "      <td>1722263</td>\n",
       "      <td>2279597</td>\n",
       "    </tr>\n",
       "    <tr>\n",
       "      <th>4</th>\n",
       "      <td>1100000000</td>\n",
       "      <td>서울특별시</td>\n",
       "      <td>9857426</td>\n",
       "      <td>1623118</td>\n",
       "      <td>728462</td>\n",
       "      <td>894656</td>\n",
       "      <td>4830206</td>\n",
       "      <td>834950</td>\n",
       "      <td>373353</td>\n",
       "      <td>461597</td>\n",
       "      <td>...</td>\n",
       "      <td>545317</td>\n",
       "      <td>749118</td>\n",
       "      <td>4570048</td>\n",
       "      <td>663666</td>\n",
       "      <td>280017</td>\n",
       "      <td>383649</td>\n",
       "      <td>4858324</td>\n",
       "      <td>630769</td>\n",
       "      <td>265300</td>\n",
       "      <td>365469</td>\n",
       "    </tr>\n",
       "  </tbody>\n",
       "</table>\n",
       "<p>5 rows × 74 columns</p>\n",
       "</div>"
      ],
      "text/plain": [
       "  ※ 매년 말일자 통계 현황 Unnamed: 1 Unnamed: 2 Unnamed: 3 Unnamed: 4 Unnamed: 5   \n",
       "0            NaN        NaN      2017년        NaN        NaN        NaN  \\\n",
       "1            NaN        NaN          계        NaN        NaN        NaN   \n",
       "2         행정기관코드       행정기관      총 인구수    연령구간인구수       0~9세     10~19세   \n",
       "3     0000000000       전국     51778544    9739623    4435198    5304425   \n",
       "4     1100000000    서울특별시      9857426    1623118     728462     894656   \n",
       "\n",
       "  Unnamed: 6 Unnamed: 7 Unnamed: 8 Unnamed: 9  ... Unnamed: 64 Unnamed: 65   \n",
       "0        NaN        NaN        NaN        NaN  ...         NaN         NaN  \\\n",
       "1          남        NaN        NaN        NaN  ...         NaN         NaN   \n",
       "2      남 인구수    연령구간인구수       0~9세     10~19세  ...        0~9세      10~19세   \n",
       "3   25855919    5035540    2277849    2757691  ...     3532642     4703196   \n",
       "4    4830206     834950     373353     461597  ...      545317      749118   \n",
       "\n",
       "  Unnamed: 66 Unnamed: 67 Unnamed: 68 Unnamed: 69 Unnamed: 70 Unnamed: 71   \n",
       "0         NaN         NaN         NaN         NaN         NaN         NaN  \\\n",
       "1           남         NaN         NaN         NaN           여         NaN   \n",
       "2       총 인구수     연령구간인구수        0~9세      10~19세       총 인구수     연령구간인구수   \n",
       "3    25636951     4233978     1810379     2423599    25802087     4001860   \n",
       "4     4570048      663666      280017      383649     4858324      630769   \n",
       "\n",
       "  Unnamed: 72 Unnamed: 73  \n",
       "0         NaN         NaN  \n",
       "1         NaN         NaN  \n",
       "2        0~9세      10~19세  \n",
       "3     1722263     2279597  \n",
       "4      265300      365469  \n",
       "\n",
       "[5 rows x 74 columns]"
      ]
     },
     "execution_count": 8,
     "metadata": {},
     "output_type": "execute_result"
    }
   ],
   "source": [
    "df_all = pd.read_excel('./201712_202212__.xlsx')\n",
    "df_all.head()"
   ]
  },
  {
   "cell_type": "code",
   "execution_count": 21,
   "metadata": {},
   "outputs": [
    {
     "name": "stdout",
     "output_type": "stream",
     "text": [
      "9739623\n",
      "9434215\n",
      "9125924\n",
      "8763406\n",
      "8469666\n",
      "8235838\n"
     ]
    }
   ],
   "source": [
    "# df_all_2017 = df_all.iloc[3, 4:6]. sum()\n",
    "# df_all_2018 = df_all.iloc[3, 16:18].sum()\n",
    "# df_all_2019 = df_all.iloc[3, 28:30].sum()\n",
    "# df_all_2020 = df_all.iloc[3, 40:42].sum()\n",
    "# df_all_2021 = df_all.iloc[3, 52:54].sum()\n",
    "# df_all_2022 = df_all.iloc[3, 64:66].sum()\n",
    "\n",
    "# # df_all_sum = pd.concat([df_all_2017, df_all_2018, df_all_2019, df_all_2020, df_all_2021, df_all_2022], axis=0)\n",
    "# # df_all_sum\n",
    "\n",
    "# print(df_all_2017)\n",
    "# print(df_all_2018)\n",
    "# print(df_all_2019)\n",
    "# print(df_all_2020)\n",
    "# print(df_all_2021)\n",
    "# print(df_all_2022)"
   ]
  },
  {
   "cell_type": "code",
   "execution_count": 24,
   "metadata": {},
   "outputs": [
    {
     "name": "stdout",
     "output_type": "stream",
     "text": [
      "{'2017': 9739623, '2018': 9434215, '2019': 9125924, '2020': 8763406, '2021': 8469666, '2022': 8235838}\n"
     ]
    },
    {
     "data": {
      "text/plain": [
       "2017    9739623\n",
       "2018    9434215\n",
       "2019    9125924\n",
       "2020    8763406\n",
       "2021    8469666\n",
       "2022    8235838\n",
       "dtype: int64"
      ]
     },
     "execution_count": 24,
     "metadata": {},
     "output_type": "execute_result"
    }
   ],
   "source": [
    "data_by_year = {\n",
    "    '2017': df_all.iloc[3, 4:6].sum(),\n",
    "    '2018': df_all.iloc[3, 16:18].sum(),\n",
    "    '2019': df_all.iloc[3, 28:30].sum(),\n",
    "    '2020': df_all.iloc[3, 40:42].sum(),\n",
    "    '2021': df_all.iloc[3, 52:54].sum(),\n",
    "    '2022': df_all.iloc[3, 64:66].sum()\n",
    "}\n",
    "\n",
    "print(data_by_year)\n",
    "\n",
    "sr = pd.Series(data_by_year)\n",
    "\n",
    "sr"
   ]
  },
  {
   "cell_type": "code",
   "execution_count": 25,
   "metadata": {},
   "outputs": [
    {
     "data": {
      "text/plain": [
       "2017    0.921863\n",
       "2018    0.954695\n",
       "2019    0.994617\n",
       "2020    1.028995\n",
       "2021    1.086088\n",
       "2022    1.150484\n",
       "dtype: object"
      ]
     },
     "execution_count": 25,
     "metadata": {},
     "output_type": "execute_result"
    }
   ],
   "source": [
    "ratio_under_20 = df_sum / sr * 100\n",
    "ratio_under_20"
   ]
  },
  {
   "cell_type": "code",
   "execution_count": 30,
   "metadata": {},
   "outputs": [
    {
     "data": {
      "image/png": "[encoded data removed]",
      "text/plain": [
       "<Figure size 1000x500 with 1 Axes>"
      ]
     },
     "metadata": {},
     "output_type": "display_data"
    }
   ],
   "source": [
    "# 그래프 크기 설정\n",
    "plt.figure(figsize=(10, 5))\n",
    "\n",
    "# 쟁애 발생률 그래프 그리기\n",
    "plt.plot(ratio_under_20, 'm^-', label='20대 이하 장애률')\n",
    "\n",
    "# 그래프 타이틀과 레이블 설정\n",
    "plt.title('20대 이하 장애률')\n",
    "plt.xlabel('년도')\n",
    "plt.ylabel('비율')\n",
    "plt.legend()\n",
    "\n",
    "# 그래프 출력\n",
    "plt.show()"
   ]
  }
 ],
 "metadata": {
  "kernelspec": {
   "display_name": "pandas_jm",
   "language": "python",
   "name": "python3"
  },
  "language_info": {
   "codemirror_mode": {
    "name": "ipython",
    "version": 3
   },
   "file_extension": ".py",
   "mimetype": "text/x-python",
   "name": "python",
   "nbconvert_exporter": "python",
   "pygments_lexer": "ipython3",
   "version": "3.11.3"
  },
  "orig_nbformat": 4
 },
 "nbformat": 4,
 "nbformat_minor": 2
}
